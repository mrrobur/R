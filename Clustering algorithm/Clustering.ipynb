{
 "cells": [
  {
   "cell_type": "markdown",
   "metadata": {},
   "source": [
    "## Objective\n",
    "The goal of this notebook is to discover a data set and perform different clustering methods against chosen dimension"
   ]
  },
  {
   "cell_type": "code",
   "execution_count": 1,
   "metadata": {},
   "outputs": [
    {
     "name": "stderr",
     "output_type": "stream",
     "text": [
      "Warning message:\n",
      "\"package 'pamr' was built under R version 3.6.3\"Loading required package: cluster\n",
      "Loading required package: survival\n",
      "Warning message:\n",
      "\"package 'clv' was built under R version 3.6.3\"Loading required package: class\n"
     ]
    }
   ],
   "source": [
    "# clear everything\n",
    "rm(list=ls())\n",
    "load(file=\"Clustering_160412IV_16.RData\")\n",
    "\n",
    "library(\"pamr\") #library for pam - k-medoids\n",
    "library(\"clv\") #library for intercluster and intracluster distances"
   ]
  },
  {
   "cell_type": "markdown",
   "metadata": {},
   "source": [
    "First off let's take a look at the data set"
   ]
  },
  {
   "cell_type": "code",
   "execution_count": 2,
   "metadata": {},
   "outputs": [
    {
     "data": {
      "text/html": [
       "<table>\n",
       "<tbody>\n",
       "\t<tr><td> 20.813473 </td><td>  9.501321 </td><td> 9.738432  </td><td>-11.831884 </td><td>-30.9794879</td><td> -6.661825 </td><td> 21.738242 </td><td> 24.579745 </td><td>-16.7747850</td><td> 33.890679 </td></tr>\n",
       "\t<tr><td>-26.476330 </td><td> 11.821022 </td><td>10.509475  </td><td> 34.245072 </td><td> -0.6026307</td><td>-10.638368 </td><td>  5.552413 </td><td>-23.960113 </td><td>  0.2134817</td><td> -5.123911 </td></tr>\n",
       "\t<tr><td> 15.270850 </td><td>  9.881130 </td><td>16.851496  </td><td>  1.050231 </td><td> 22.0895305</td><td>-10.276748 </td><td> -8.608749 </td><td>-25.003965 </td><td> 36.4659744</td><td>-12.728954 </td></tr>\n",
       "\t<tr><td> 26.362605 </td><td>-18.476611 </td><td> 7.687216  </td><td> 26.032392 </td><td>  9.9780197</td><td> -3.789275 </td><td> 22.130690 </td><td>-21.744316 </td><td> 18.6074077</td><td>-33.513601 </td></tr>\n",
       "\t<tr><td>-30.148852 </td><td>-29.341969 </td><td>13.401974  </td><td>-26.875420 </td><td> 26.9085036</td><td> -8.524474 </td><td>-11.350389 </td><td> -4.976509 </td><td> 25.3511010</td><td> 26.365098 </td></tr>\n",
       "\t<tr><td>  3.472417 </td><td>-14.951379 </td><td> 5.711407  </td><td>-27.957305 </td><td> 35.9326776</td><td> -5.429475 </td><td>  8.862216 </td><td>-22.599103 </td><td>-26.3537356</td><td>-10.303206 </td></tr>\n",
       "</tbody>\n",
       "</table>\n"
      ],
      "text/latex": [
       "\\begin{tabular}{llllllllll}\n",
       "\t  20.813473  &   9.501321  &  9.738432   & -11.831884  & -30.9794879 &  -6.661825  &  21.738242  &  24.579745  & -16.7747850 &  33.890679 \\\\\n",
       "\t -26.476330  &  11.821022  & 10.509475   &  34.245072  &  -0.6026307 & -10.638368  &   5.552413  & -23.960113  &   0.2134817 &  -5.123911 \\\\\n",
       "\t  15.270850  &   9.881130  & 16.851496   &   1.050231  &  22.0895305 & -10.276748  &  -8.608749  & -25.003965  &  36.4659744 & -12.728954 \\\\\n",
       "\t  26.362605  & -18.476611  &  7.687216   &  26.032392  &   9.9780197 &  -3.789275  &  22.130690  & -21.744316  &  18.6074077 & -33.513601 \\\\\n",
       "\t -30.148852  & -29.341969  & 13.401974   & -26.875420  &  26.9085036 &  -8.524474  & -11.350389  &  -4.976509  &  25.3511010 &  26.365098 \\\\\n",
       "\t   3.472417  & -14.951379  &  5.711407   & -27.957305  &  35.9326776 &  -5.429475  &   8.862216  & -22.599103  & -26.3537356 & -10.303206 \\\\\n",
       "\\end{tabular}\n"
      ],
      "text/markdown": [
       "\n",
       "|  20.813473  |   9.501321  |  9.738432   | -11.831884  | -30.9794879 |  -6.661825  |  21.738242  |  24.579745  | -16.7747850 |  33.890679  |\n",
       "| -26.476330  |  11.821022  | 10.509475   |  34.245072  |  -0.6026307 | -10.638368  |   5.552413  | -23.960113  |   0.2134817 |  -5.123911  |\n",
       "|  15.270850  |   9.881130  | 16.851496   |   1.050231  |  22.0895305 | -10.276748  |  -8.608749  | -25.003965  |  36.4659744 | -12.728954  |\n",
       "|  26.362605  | -18.476611  |  7.687216   |  26.032392  |   9.9780197 |  -3.789275  |  22.130690  | -21.744316  |  18.6074077 | -33.513601  |\n",
       "| -30.148852  | -29.341969  | 13.401974   | -26.875420  |  26.9085036 |  -8.524474  | -11.350389  |  -4.976509  |  25.3511010 |  26.365098  |\n",
       "|   3.472417  | -14.951379  |  5.711407   | -27.957305  |  35.9326776 |  -5.429475  |   8.862216  | -22.599103  | -26.3537356 | -10.303206  |\n",
       "\n"
      ],
      "text/plain": [
       "     [,1]       [,2]       [,3]      [,4]       [,5]        [,6]      \n",
       "[1,]  20.813473   9.501321  9.738432 -11.831884 -30.9794879  -6.661825\n",
       "[2,] -26.476330  11.821022 10.509475  34.245072  -0.6026307 -10.638368\n",
       "[3,]  15.270850   9.881130 16.851496   1.050231  22.0895305 -10.276748\n",
       "[4,]  26.362605 -18.476611  7.687216  26.032392   9.9780197  -3.789275\n",
       "[5,] -30.148852 -29.341969 13.401974 -26.875420  26.9085036  -8.524474\n",
       "[6,]   3.472417 -14.951379  5.711407 -27.957305  35.9326776  -5.429475\n",
       "     [,7]       [,8]       [,9]        [,10]     \n",
       "[1,]  21.738242  24.579745 -16.7747850  33.890679\n",
       "[2,]   5.552413 -23.960113   0.2134817  -5.123911\n",
       "[3,]  -8.608749 -25.003965  36.4659744 -12.728954\n",
       "[4,]  22.130690 -21.744316  18.6074077 -33.513601\n",
       "[5,] -11.350389  -4.976509  25.3511010  26.365098\n",
       "[6,]   8.862216 -22.599103 -26.3537356 -10.303206"
      ]
     },
     "metadata": {},
     "output_type": "display_data"
    },
    {
     "data": {
      "text/html": [
       "2000"
      ],
      "text/latex": [
       "2000"
      ],
      "text/markdown": [
       "2000"
      ],
      "text/plain": [
       "[1] 2000"
      ]
     },
     "metadata": {},
     "output_type": "display_data"
    },
    {
     "data": {
      "text/html": [
       "10"
      ],
      "text/latex": [
       "10"
      ],
      "text/markdown": [
       "10"
      ],
      "text/plain": [
       "[1] 10"
      ]
     },
     "metadata": {},
     "output_type": "display_data"
    }
   ],
   "source": [
    "head(DU)\n",
    "nrow(DU)\n",
    "ncol(DU)"
   ]
  },
  {
   "cell_type": "markdown",
   "metadata": {},
   "source": [
    "The dataset is numeric with 2000 rows and 10 columns each. Due to high dimensionality of data clustering might be cumbersome and data difficult to visualize. Therefore for feature selection I will check the correlations among series."
   ]
  },
  {
   "cell_type": "code",
   "execution_count": 3,
   "metadata": {},
   "outputs": [
    {
     "data": {
      "text/html": [
       "<table>\n",
       "<tbody>\n",
       "\t<tr><td> 1.000000000 </td><td> 0.020373696 </td><td>-0.0321618167</td><td> 0.0360055946</td><td>-0.0366291217</td><td>-0.045107316 </td><td>-0.001797393 </td><td>-0.019206533 </td><td> 0.008815601 </td><td> 0.0048948492</td></tr>\n",
       "\t<tr><td> 0.020373696 </td><td> 1.000000000 </td><td>-0.0308171336</td><td>-0.0223910534</td><td> 0.0024610726</td><td>-0.021136789 </td><td> 0.006487900 </td><td> 0.012245583 </td><td>-0.009810332 </td><td>-0.0250592492</td></tr>\n",
       "\t<tr><td>-0.032161817 </td><td>-0.030817134 </td><td> 1.0000000000</td><td> 0.0131697794</td><td> 0.0147900874</td><td> 0.818385887 </td><td>-0.025320568 </td><td> 0.020773618 </td><td>-0.005677401 </td><td> 0.0006846053</td></tr>\n",
       "\t<tr><td> 0.036005595 </td><td>-0.022391053 </td><td> 0.0131697794</td><td> 1.0000000000</td><td> 0.0007385408</td><td> 0.016807831 </td><td>-0.016229671 </td><td>-0.005006525 </td><td> 0.016570975 </td><td> 0.0223407313</td></tr>\n",
       "\t<tr><td>-0.036629122 </td><td> 0.002461073 </td><td> 0.0147900874</td><td> 0.0007385408</td><td> 1.0000000000</td><td> 0.027190552 </td><td> 0.009344853 </td><td>-0.018997448 </td><td> 0.063511942 </td><td> 0.0290730150</td></tr>\n",
       "\t<tr><td>-0.045107316 </td><td>-0.021136789 </td><td> 0.8183858867</td><td> 0.0168078307</td><td> 0.0271905516</td><td> 1.000000000 </td><td>-0.020388159 </td><td> 0.028622553 </td><td>-0.009976662 </td><td>-0.0107907940</td></tr>\n",
       "\t<tr><td>-0.001797393 </td><td> 0.006487900 </td><td>-0.0253205685</td><td>-0.0162296715</td><td> 0.0093448530</td><td>-0.020388159 </td><td> 1.000000000 </td><td>-0.002894401 </td><td> 0.024671545 </td><td>-0.0028662166</td></tr>\n",
       "\t<tr><td>-0.019206533 </td><td> 0.012245583 </td><td> 0.0207736177</td><td>-0.0050065247</td><td>-0.0189974480</td><td> 0.028622553 </td><td>-0.002894401 </td><td> 1.000000000 </td><td>-0.011233662 </td><td> 0.0267078544</td></tr>\n",
       "\t<tr><td> 0.008815601 </td><td>-0.009810332 </td><td>-0.0056774014</td><td> 0.0165709750</td><td> 0.0635119419</td><td>-0.009976662 </td><td> 0.024671545 </td><td>-0.011233662 </td><td> 1.000000000 </td><td>-0.0118702344</td></tr>\n",
       "\t<tr><td> 0.004894849 </td><td>-0.025059249 </td><td> 0.0006846053</td><td> 0.0223407313</td><td> 0.0290730150</td><td>-0.010790794 </td><td>-0.002866217 </td><td> 0.026707854 </td><td>-0.011870234 </td><td> 1.0000000000</td></tr>\n",
       "</tbody>\n",
       "</table>\n"
      ],
      "text/latex": [
       "\\begin{tabular}{llllllllll}\n",
       "\t  1.000000000  &  0.020373696  & -0.0321618167 &  0.0360055946 & -0.0366291217 & -0.045107316  & -0.001797393  & -0.019206533  &  0.008815601  &  0.0048948492\\\\\n",
       "\t  0.020373696  &  1.000000000  & -0.0308171336 & -0.0223910534 &  0.0024610726 & -0.021136789  &  0.006487900  &  0.012245583  & -0.009810332  & -0.0250592492\\\\\n",
       "\t -0.032161817  & -0.030817134  &  1.0000000000 &  0.0131697794 &  0.0147900874 &  0.818385887  & -0.025320568  &  0.020773618  & -0.005677401  &  0.0006846053\\\\\n",
       "\t  0.036005595  & -0.022391053  &  0.0131697794 &  1.0000000000 &  0.0007385408 &  0.016807831  & -0.016229671  & -0.005006525  &  0.016570975  &  0.0223407313\\\\\n",
       "\t -0.036629122  &  0.002461073  &  0.0147900874 &  0.0007385408 &  1.0000000000 &  0.027190552  &  0.009344853  & -0.018997448  &  0.063511942  &  0.0290730150\\\\\n",
       "\t -0.045107316  & -0.021136789  &  0.8183858867 &  0.0168078307 &  0.0271905516 &  1.000000000  & -0.020388159  &  0.028622553  & -0.009976662  & -0.0107907940\\\\\n",
       "\t -0.001797393  &  0.006487900  & -0.0253205685 & -0.0162296715 &  0.0093448530 & -0.020388159  &  1.000000000  & -0.002894401  &  0.024671545  & -0.0028662166\\\\\n",
       "\t -0.019206533  &  0.012245583  &  0.0207736177 & -0.0050065247 & -0.0189974480 &  0.028622553  & -0.002894401  &  1.000000000  & -0.011233662  &  0.0267078544\\\\\n",
       "\t  0.008815601  & -0.009810332  & -0.0056774014 &  0.0165709750 &  0.0635119419 & -0.009976662  &  0.024671545  & -0.011233662  &  1.000000000  & -0.0118702344\\\\\n",
       "\t  0.004894849  & -0.025059249  &  0.0006846053 &  0.0223407313 &  0.0290730150 & -0.010790794  & -0.002866217  &  0.026707854  & -0.011870234  &  1.0000000000\\\\\n",
       "\\end{tabular}\n"
      ],
      "text/markdown": [
       "\n",
       "|  1.000000000  |  0.020373696  | -0.0321618167 |  0.0360055946 | -0.0366291217 | -0.045107316  | -0.001797393  | -0.019206533  |  0.008815601  |  0.0048948492 |\n",
       "|  0.020373696  |  1.000000000  | -0.0308171336 | -0.0223910534 |  0.0024610726 | -0.021136789  |  0.006487900  |  0.012245583  | -0.009810332  | -0.0250592492 |\n",
       "| -0.032161817  | -0.030817134  |  1.0000000000 |  0.0131697794 |  0.0147900874 |  0.818385887  | -0.025320568  |  0.020773618  | -0.005677401  |  0.0006846053 |\n",
       "|  0.036005595  | -0.022391053  |  0.0131697794 |  1.0000000000 |  0.0007385408 |  0.016807831  | -0.016229671  | -0.005006525  |  0.016570975  |  0.0223407313 |\n",
       "| -0.036629122  |  0.002461073  |  0.0147900874 |  0.0007385408 |  1.0000000000 |  0.027190552  |  0.009344853  | -0.018997448  |  0.063511942  |  0.0290730150 |\n",
       "| -0.045107316  | -0.021136789  |  0.8183858867 |  0.0168078307 |  0.0271905516 |  1.000000000  | -0.020388159  |  0.028622553  | -0.009976662  | -0.0107907940 |\n",
       "| -0.001797393  |  0.006487900  | -0.0253205685 | -0.0162296715 |  0.0093448530 | -0.020388159  |  1.000000000  | -0.002894401  |  0.024671545  | -0.0028662166 |\n",
       "| -0.019206533  |  0.012245583  |  0.0207736177 | -0.0050065247 | -0.0189974480 |  0.028622553  | -0.002894401  |  1.000000000  | -0.011233662  |  0.0267078544 |\n",
       "|  0.008815601  | -0.009810332  | -0.0056774014 |  0.0165709750 |  0.0635119419 | -0.009976662  |  0.024671545  | -0.011233662  |  1.000000000  | -0.0118702344 |\n",
       "|  0.004894849  | -0.025059249  |  0.0006846053 |  0.0223407313 |  0.0290730150 | -0.010790794  | -0.002866217  |  0.026707854  | -0.011870234  |  1.0000000000 |\n",
       "\n"
      ],
      "text/plain": [
       "      [,1]         [,2]         [,3]          [,4]          [,5]         \n",
       " [1,]  1.000000000  0.020373696 -0.0321618167  0.0360055946 -0.0366291217\n",
       " [2,]  0.020373696  1.000000000 -0.0308171336 -0.0223910534  0.0024610726\n",
       " [3,] -0.032161817 -0.030817134  1.0000000000  0.0131697794  0.0147900874\n",
       " [4,]  0.036005595 -0.022391053  0.0131697794  1.0000000000  0.0007385408\n",
       " [5,] -0.036629122  0.002461073  0.0147900874  0.0007385408  1.0000000000\n",
       " [6,] -0.045107316 -0.021136789  0.8183858867  0.0168078307  0.0271905516\n",
       " [7,] -0.001797393  0.006487900 -0.0253205685 -0.0162296715  0.0093448530\n",
       " [8,] -0.019206533  0.012245583  0.0207736177 -0.0050065247 -0.0189974480\n",
       " [9,]  0.008815601 -0.009810332 -0.0056774014  0.0165709750  0.0635119419\n",
       "[10,]  0.004894849 -0.025059249  0.0006846053  0.0223407313  0.0290730150\n",
       "      [,6]         [,7]         [,8]         [,9]         [,10]        \n",
       " [1,] -0.045107316 -0.001797393 -0.019206533  0.008815601  0.0048948492\n",
       " [2,] -0.021136789  0.006487900  0.012245583 -0.009810332 -0.0250592492\n",
       " [3,]  0.818385887 -0.025320568  0.020773618 -0.005677401  0.0006846053\n",
       " [4,]  0.016807831 -0.016229671 -0.005006525  0.016570975  0.0223407313\n",
       " [5,]  0.027190552  0.009344853 -0.018997448  0.063511942  0.0290730150\n",
       " [6,]  1.000000000 -0.020388159  0.028622553 -0.009976662 -0.0107907940\n",
       " [7,] -0.020388159  1.000000000 -0.002894401  0.024671545 -0.0028662166\n",
       " [8,]  0.028622553 -0.002894401  1.000000000 -0.011233662  0.0267078544\n",
       " [9,] -0.009976662  0.024671545 -0.011233662  1.000000000 -0.0118702344\n",
       "[10,] -0.010790794 -0.002866217  0.026707854 -0.011870234  1.0000000000"
      ]
     },
     "metadata": {},
     "output_type": "display_data"
    }
   ],
   "source": [
    "#-- FEATURE SELECTION\n",
    "#Create Matrix of correlation coefficient\n",
    "correlation_mat<-cor(DU)\n",
    "correlation_mat"
   ]
  },
  {
   "cell_type": "markdown",
   "metadata": {},
   "source": [
    "There are only two series strongly correalted that is number 6 and 3. Those will be used to determine clusters"
   ]
  },
  {
   "cell_type": "code",
   "execution_count": 4,
   "metadata": {},
   "outputs": [],
   "source": [
    "#New matrix with correlated points only\n",
    "DataSet<-DU[,c(3,6)]"
   ]
  },
  {
   "cell_type": "code",
   "execution_count": 5,
   "metadata": {},
   "outputs": [
    {
     "data": {
      "image/png": "[encoded data removed]",
      "text/plain": [
       "Plot with title \"Data Set\""
      ]
     },
     "metadata": {},
     "output_type": "display_data"
    }
   ],
   "source": [
    "plot(DataSet[,1],DataSet[,2],col=\"black\",type=\"p\",pch=4,xlim=c(0,40),ylim=c(-20,55),main=\"Data Set\",xlab='x1',ylab='x2')\n",
    "par(new=TRUE)\n"
   ]
  },
  {
   "cell_type": "markdown",
   "metadata": {},
   "source": [
    "From the 2 dimensional plot we observe 3 groups. For that reason the number of cluster defined for algorithms will be 3. Next I want to perform clustering using different methods."
   ]
  },
  {
   "cell_type": "code",
   "execution_count": 6,
   "metadata": {},
   "outputs": [],
   "source": [
    "#matrix definition and columns naes\n",
    "stats<-matrix(,3,6)\n",
    "colnames(stats)<-c(\"k-means\",\"k-medoids\",\"H-Euclidean\",\"H-Manhattan\",\"H-Canberra\",\"H-Minkowski\")\n",
    "rownames(stats)<-c(\"Num of clusters\",\"Silhouette\",\"SSQ\")"
   ]
  },
  {
   "cell_type": "code",
   "execution_count": 7,
   "metadata": {},
   "outputs": [],
   "source": [
    "#DISTANCE function\n",
    "my_distance<-function(point, matrix, type, ext){\n",
    "  dimensions=length(matrix[,1]) \n",
    "  dist<-matrix(,dimensions,1)  # empty matrix initialization, dimension from Training Set\n",
    "  for(i in seq(matrix[,1])){ #loop - count distance of given 'point' along all points of Validation Set\n",
    "    \n",
    "    if(type==\"Euclidean\"){\n",
    "      dist[i,1]<-sqrt((point[1]-matrix[i,1])^2+(point[2]-matrix[i,2])^2) \n",
    "    }\n",
    "    \n",
    "    if(type==\"Minkowsky\"){\n",
    "      dist[i,1]<-((abs(point[1]-matrix[i,1]))^ext+abs((point[2]-matrix[i,2]))^ext)^(1/ext)\n",
    "    }\n",
    "    \n",
    "    if(type==\"Manhattan\"){\n",
    "      dist[i,1]<-abs((point[1]-matrix[i,1]))+abs((point[2]-matrix[i,2]))\n",
    "    }\n",
    "    \n",
    "    if(type==\"Canberra\"){\n",
    "      dist[i,1]<-(abs((point[1]-matrix[i,1]))/(abs(point[1])+abs(matrix[i,1])))\n",
    "      +(abs((point[2]-matrix[i,2]))/(abs(point[2])+abs(matrix[i,2])))\n",
    "    }\n",
    "    \n",
    "  }\n",
    "  return(dist)\n",
    "}"
   ]
  },
  {
   "cell_type": "markdown",
   "metadata": {},
   "source": [
    "## K-means and K-medoids\n",
    "First approach is two use most common k-means and k-medoids methods of clustering. They are simple, perform fast and can give promising results on our dataser. "
   ]
  },
  {
   "cell_type": "code",
   "execution_count": 8,
   "metadata": {},
   "outputs": [],
   "source": [
    "# pick number of clusters\n",
    "k<-3\n",
    "\n",
    "#Clustering k-means and k-medoids #########################\n",
    "\n",
    "#performing kmeans clustering\n",
    "kmeans<-kmeans(DataSet,k)\n",
    "#performing k-medoids clsutering\n",
    "kmedoids<-pam(DataSet,k,metric=\"euclidean\")"
   ]
  },
  {
   "cell_type": "code",
   "execution_count": 9,
   "metadata": {},
   "outputs": [],
   "source": [
    "#count SSQ for k-means and k-medoids----\n",
    "SSQ_kmeans<-matrix(,2000,k)\n",
    "for(j in seq(1,k)){\n",
    "  SSQ_kmeans[,j]<-my_distance(c(kmeans$centers[j,1],kmeans$centers[j,2]),DataSet[,],\"Euclidean\",0)\n",
    "}\n",
    "stats[3,1]<-sum((SSQ_kmeans[,])^2)\n",
    "\n",
    "SSQ_kmedoids<-matrix(,2000,k)\n",
    "for(j in seq(1,k)){\n",
    "  SSQ_kmedoids[,j]<-my_distance(c(kmedoids$medoids[j,1],kmedoids$medoids[j,2]),DataSet[,],\"Euclidean\",0)\n",
    "}\n",
    "stats[3,2]<-sum((SSQ_kmedoids[,])^2)"
   ]
  },
  {
   "cell_type": "markdown",
   "metadata": {},
   "source": [
    "## Hierarchical clustering\n",
    "Second approach is using Hierarchical clustering with different distance metrics."
   ]
  },
  {
   "cell_type": "code",
   "execution_count": 10,
   "metadata": {},
   "outputs": [
    {
     "name": "stderr",
     "output_type": "stream",
     "text": [
      "Warning message in cls.id.vect.validity(clust, \"clust\"):\n",
      "\"Vector 'clust' should be an integer so it was coerced to integer type.\"Warning message in cls.id.vect.validity(clust, \"clust\"):\n",
      "\"Vector 'clust' should be an integer so it was coerced to integer type.\"Warning message in cls.id.vect.validity(clust, \"clust\"):\n",
      "\"Vector 'clust' should be an integer so it was coerced to integer type.\"Warning message in cls.id.vect.validity(clust, \"clust\"):\n",
      "\"Vector 'clust' should be an integer so it was coerced to integer type.\""
     ]
    }
   ],
   "source": [
    "#count distances for Hierarchic clustering\n",
    "d_e<-dist(as.matrix(DataSet),method=\"euclidean\")\n",
    "d_m<-dist(as.matrix(DataSet),method = \"manhattan\")\n",
    "d_c<-dist(as.matrix(DataSet),method = \"canberra\")\n",
    "d_mi<-dist(as.matrix(DataSet),method = \"minkowski\", p=8)\n",
    "\n",
    "# perform Hierarchical Clustering\n",
    "fit_h_e<-hclust(d_e) \n",
    "fit_h_m<-hclust(d_m)\n",
    "fit_h_c<-hclust(d_c)\n",
    "fit_h_mi<-hclust(d_mi)\n",
    "\n",
    "# cut the points to k\n",
    "fith_e_cut<-cutree(fit_h_e,k=k)\n",
    "fith_m_cut<-cutree(fit_h_m,k=k)\n",
    "fith_c_cut<-cutree(fit_h_c,k=k)\n",
    "fith_mi_cut<-cutree(fit_h_mi,k=k)\n",
    "\n",
    "\n",
    "#counting clusters number ------\n",
    "for(i in seq(1,7))\n",
    "{\n",
    "  stats[1,1]<-k\n",
    "  stats[1,2]<-k\n",
    "  stats[1,3]<-max(fith_e_cut)\n",
    "  stats[1,4]<-max(fith_m_cut)\n",
    "  stats[1,5]<-max(fith_c_cut)\n",
    "  stats[1,6]<-max(fith_mi_cut)\n",
    "  \n",
    "}\n",
    "\n",
    "\n",
    "#Count Average silhouette width\n",
    "sil_kmeans<-silhouette(kmeans$cluster, d_e)\n",
    "stats[2,1]<--mean(sil_kmeans[,3])\n",
    "\n",
    "sil_kmedoids<-silhouette(kmedoids$clustering, d_e)\n",
    "stats[2,2]<-mean(sil_kmedoids[,3])\n",
    "\n",
    "sil_h_e<-silhouette(fith_e_cut, d_e)\n",
    "stats[2,3]<-mean(sil_h_e[,3])\n",
    "\n",
    "sil_h_m<-silhouette(fith_m_cut, d_m)\n",
    "stats[2,4]<-mean(sil_h_m[,3])\n",
    "\n",
    "sil_h_c<-silhouette(fith_c_cut, d_c)\n",
    "stats[2,5]<-mean(sil_h_c[,3])\n",
    "\n",
    "sil_h_mi<-silhouette(fith_mi_cut, d_mi)\n",
    "stats[2,6]<-mean(sil_h_mi[,3])\n",
    "\n",
    "\n",
    "\n",
    "# SSQ for other methods\n",
    "## DESC\n",
    "# find cluster center with 'cls.scatt.data' method ->dist_sil_h_e$cluster.center\n",
    "dist_sil_h_e<-cls.scatt.data(DataSet,sil_h_e[,1],dist=\"euclidean\") \n",
    "\n",
    "# create matrix\n",
    "SSQ_sil_h_e<-matrix(,2000,k)\n",
    "for(j in seq(1,k)){\n",
    "  #compute distances for each point to its centroid with given method \n",
    "  SSQ_sil_h_e[,j]<-my_distance(c(dist_sil_h_e$cluster.center[j,1],dist_sil_h_e$cluster.center[j,2]),DataSet[,],\"Euclidean\",0)\n",
    "}\n",
    "stats[3,3]<-sum((SSQ_sil_h_e[,])^2) # sum up all distances\n",
    "\n",
    "dist_sil_h_m<-cls.scatt.data(DataSet,sil_h_m[,1],dist=\"euclidean\")\n",
    "SSQ_sil_h_m<-matrix(,2000,k)\n",
    "for(j in seq(1,k)){\n",
    "  SSQ_sil_h_m[,j]<-my_distance(c(dist_sil_h_m$cluster.center[j,1],dist_sil_h_m$cluster.center[j,2]),DataSet[,],\"Manhattan\",0)\n",
    "}\n",
    "stats[3,4]<-sum((SSQ_sil_h_m[,])^2)\n",
    "\n",
    "dist_sil_h_c<-cls.scatt.data(DataSet,sil_h_c[,1],dist=\"euclidean\")\n",
    "SSQ_sil_h_c<-matrix(,2000,k)\n",
    "for(j in seq(1,k)){\n",
    "  SSQ_sil_h_c[,j]<-my_distance(c(dist_sil_h_c$cluster.center[j,1],dist_sil_h_c$cluster.center[j,2]),DataSet[,],\"Canberra\",0)\n",
    "}\n",
    "stats[3,5]<-sum((SSQ_sil_h_c[,])^2)\n",
    "\n",
    "dist_sil_h_mi<-cls.scatt.data(DataSet,sil_h_mi[,1],dist=\"euclidean\")\n",
    "SSQ_sil_h_mi<-matrix(,2000,k)\n",
    "for(j in seq(1,k)){\n",
    "  SSQ_sil_h_mi[,j]<-my_distance(c(dist_sil_h_mi$cluster.center[j,1],dist_sil_h_mi$cluster.center[j,2]),DataSet[,],\"Minkowsky\",3)\n",
    "}\n",
    "stats[3,6]<-sum((SSQ_sil_h_mi[,])^2)\n",
    "\n"
   ]
  },
  {
   "cell_type": "markdown",
   "metadata": {},
   "source": [
    "## Summary and error measures of clustering"
   ]
  },
  {
   "cell_type": "code",
   "execution_count": 11,
   "metadata": {},
   "outputs": [
    {
     "data": {
      "text/html": [
       "<table>\n",
       "<thead><tr><th></th><th scope=col>k-means</th><th scope=col>k-medoids</th><th scope=col>H-Euclidean</th><th scope=col>H-Manhattan</th><th scope=col>H-Canberra</th><th scope=col>H-Minkowski</th></tr></thead>\n",
       "<tbody>\n",
       "\t<tr><th scope=row>Num of clusters</th><td>      3.0000000</td><td>      3.0000000</td><td>      3.0000000</td><td>      3.0000000</td><td>  3.0000000    </td><td>      3.000000 </td></tr>\n",
       "\t<tr><th scope=row>Silhouette</th><td>     -0.5648556</td><td>      0.5637588</td><td>      0.4825743</td><td>      0.5227099</td><td>  0.5214668    </td><td>      0.490177 </td></tr>\n",
       "\t<tr><th scope=row>SSQ</th><td>3192526.1762918</td><td>2913867.5136782</td><td>2926901.3999520</td><td>5429722.6595650</td><td>800.2584229    </td><td>3367913.221531 </td></tr>\n",
       "</tbody>\n",
       "</table>\n"
      ],
      "text/latex": [
       "\\begin{tabular}{r|llllll}\n",
       "  & k-means & k-medoids & H-Euclidean & H-Manhattan & H-Canberra & H-Minkowski\\\\\n",
       "\\hline\n",
       "\tNum of clusters &       3.0000000 &       3.0000000 &       3.0000000 &       3.0000000 &   3.0000000     &       3.000000 \\\\\n",
       "\tSilhouette &      -0.5648556 &       0.5637588 &       0.4825743 &       0.5227099 &   0.5214668     &       0.490177 \\\\\n",
       "\tSSQ & 3192526.1762918 & 2913867.5136782 & 2926901.3999520 & 5429722.6595650 & 800.2584229     & 3367913.221531 \\\\\n",
       "\\end{tabular}\n"
      ],
      "text/markdown": [
       "\n",
       "| <!--/--> | k-means | k-medoids | H-Euclidean | H-Manhattan | H-Canberra | H-Minkowski |\n",
       "|---|---|---|---|---|---|---|\n",
       "| Num of clusters |       3.0000000 |       3.0000000 |       3.0000000 |       3.0000000 |   3.0000000     |       3.000000  |\n",
       "| Silhouette |      -0.5648556 |       0.5637588 |       0.4825743 |       0.5227099 |   0.5214668     |       0.490177  |\n",
       "| SSQ | 3192526.1762918 | 2913867.5136782 | 2926901.3999520 | 5429722.6595650 | 800.2584229     | 3367913.221531  |\n",
       "\n"
      ],
      "text/plain": [
       "                k-means         k-medoids       H-Euclidean     H-Manhattan    \n",
       "Num of clusters       3.0000000       3.0000000       3.0000000       3.0000000\n",
       "Silhouette           -0.5648556       0.5637588       0.4825743       0.5227099\n",
       "SSQ             3192526.1762918 2913867.5136782 2926901.3999520 5429722.6595650\n",
       "                H-Canberra  H-Minkowski   \n",
       "Num of clusters   3.0000000       3.000000\n",
       "Silhouette        0.5214668       0.490177\n",
       "SSQ             800.2584229 3367913.221531"
      ]
     },
     "metadata": {},
     "output_type": "display_data"
    }
   ],
   "source": [
    "options(\"scipen\" = 3)\n",
    "stats"
   ]
  },
  {
   "cell_type": "markdown",
   "metadata": {},
   "source": [
    "I used two numeric metrics for cluster verification. \n",
    "- Silhouette coefficient that points the similarity of the points within the cluster. Measure can take value between -1 and 1, where closer to the bounds means having unified cluster and closer to zero means having data points with high variation within the cluster\n",
    "- SSE (Sum of Squared Errors) communicates how similar are the observations within the cluster. Low values are demanded as the higher the value, the more diversifed intercluster observations are.\n",
    "\n",
    "From the summary it looks like both k-means and k-medoids have a high value of Silhouette (above 0.56) while in SSE metric extremally low in contrary to the rest is Hierarhical clustering with Canberra distance computation"
   ]
  },
  {
   "cell_type": "markdown",
   "metadata": {},
   "source": [
    "## Plotting clusters in 2d space\n",
    "Since the data is two dimensional we can plot the clusters to better understand the outcome"
   ]
  },
  {
   "cell_type": "code",
   "execution_count": 13,
   "metadata": {},
   "outputs": [
    {
     "data": {
      "image/png": "[encoded data removed]",
      "text/plain": [
       "Plot with title \"hierarchic-minkowski, p=8\""
      ]
     },
     "metadata": {},
     "output_type": "display_data"
    }
   ],
   "source": [
    "#plotting---------\n",
    "par(mfrow=c(3,2))\n",
    "par(new=FALSE)\n",
    "\n",
    "for(i in seq(1:length(DataSet[,1]))){\n",
    "  color<-switch(kmeans$cluster[i],\"red\",\"green\",\"blue\",\"orange\",\"purple\",\"violet\",\"black\")\n",
    "  plot(DataSet[i,1],DataSet[i,2],col=color,type=\"p\",pch=4,xlim=c(0,40),ylim=c(-20,55),main=\"k mean\")\n",
    "  par(new=TRUE)\n",
    "}\n",
    "par(new=FALSE)\n",
    "\n",
    "for(i in seq(1:length(DataSet[,1]))){\n",
    "  color<-switch(kmedoids$clustering[i],\"red\",\"green\",\"blue\",\"orange\",\"purple\",\"violet\",\"black\")\n",
    "  plot(DataSet[i,1],DataSet[i,2],col=color,type=\"p\",pch=4,xlim=c(0,40),ylim=c(-20,55),main=\"k-medoids\")\n",
    "  par(new=TRUE)\n",
    "\n",
    "}\n",
    "par(new=FALSE)\n",
    "\n",
    "for(i in seq(1:length(DataSet[,1]))){\n",
    "  color<-switch(fith_e_cut[i],\"red\",\"green\",\"blue\",\"orange\",\"purple\",\"violet\",\"black\")\n",
    "  plot(DataSet[i,1],DataSet[i,2],col=color,type=\"p\",pch=4,xlim=c(0,40),ylim=c(-20,55),main=\"hierarchic-euclidean\")\n",
    "  par(new=TRUE)\n",
    "\n",
    "}\n",
    "par(new=FALSE)\n",
    "\n",
    "for(i in seq(1:length(DataSet[,1]))){\n",
    "  color<-switch(fith_m_cut[i],\"red\",\"green\",\"blue\",\"orange\",\"purple\",\"violet\",\"black\")\n",
    "  plot(DataSet[i,1],DataSet[i,2],col=color,type=\"p\",pch=4,xlim=c(0,40),ylim=c(-20,55),main=\"hierarchic-manhattan\")\n",
    "  par(new=TRUE)\n",
    "}\n",
    "par(new=FALSE)\n",
    "\n",
    "for(i in seq(1:length(DataSet[,1]))){\n",
    "  color<-switch(fith_c_cut[i],\"red\",\"green\",\"blue\",\"orange\",\"purple\",\"violet\",\"black\")\n",
    "  plot(DataSet[i,1],DataSet[i,2],col=color,type=\"p\",pch=4,xlim=c(0,40),ylim=c(-20,55),main=\"hierarchic-canberra\")\n",
    "  par(new=TRUE)\n",
    "\n",
    "}\n",
    "par(new=FALSE)\n",
    "\n",
    "for(i in seq(1:length(DataSet[,1]))){\n",
    "  color<-switch(fith_mi_cut[i],\"red\",\"green\",\"blue\",\"orange\",\"purple\",\"violet\",\"black\")\n",
    "  plot(DataSet[i,1],DataSet[i,2],col=color,type=\"p\",pch=4,xlim=c(0,40),ylim=c(-20,55),main=\"hierarchic-minkowski, p=8\")\n",
    "  par(new=TRUE)\n",
    "\n",
    "}\n",
    "par(new=FALSE)"
   ]
  },
  {
   "cell_type": "markdown",
   "metadata": {},
   "source": [
    "Looking at the clusters we can say that some algorithms have done a better job than others. \n",
    "- k-means and k-medoids clustering seems to have a good match of visually recogniazable groups\n",
    "- hierarchical clustering didn't manage well the limits between the lower left and center cluster\n",
    "\n",
    "From the numeric data it was also striking that hierarchical clustering with canberra distance has a very low SSE value. As we see that happened due to classifing a great group of points into green cluster and only a few points into blue cluster. Numeric stats for this case were not very reliable, fortunately since this is a 2D set we can point out the poor classification visually. \n",
    "In that situation the best match seems to be given by k-means and k-medoids. Since both Silhouette coeff and SSE gives similar results for those two, we can say they are both comparably good classifications."
   ]
  }
 ],
 "metadata": {
  "kernelspec": {
   "display_name": "R",
   "language": "R",
   "name": "ir"
  },
  "language_info": {
   "codemirror_mode": "r",
   "file_extension": ".r",
   "mimetype": "text/x-r-source",
   "name": "R",
   "pygments_lexer": "r",
   "version": "3.6.1"
  }
 },
 "nbformat": 4,
 "nbformat_minor": 4
}
