{
 "cells": [
  {
   "cell_type": "code",
   "execution_count": 4,
   "metadata": {},
   "outputs": [],
   "source": [
    "# clear everything\n",
    "rm(list=ls())\n",
    "#dev.off()\n",
    "library(\"dbscan\") #library for DBSCAN\n",
    "load(file=\"D.RData\")\n"
   ]
  },
  {
   "cell_type": "code",
   "execution_count": 5,
   "metadata": {},
   "outputs": [],
   "source": [
    "#Create Matrix of correlation coefficient\n",
    "\n",
    "correlation_mat<-cor(D)\n",
    "standard_deviation=matrix(,1,5)\n",
    "var=matrix(,1,5)\n",
    "mean=matrix(,1,5)\n",
    "\n",
    "for(i in seq(1,5)){\n",
    "  standard_deviation[i]=sd(D[,i])\n",
    "  var[i]=var(D[,i])\n",
    "  mean[i]<-mean(D[,i])\n",
    "  \n",
    "}\n",
    "DU<-matrix(,length(D[,1]),length(D[1,]))\n",
    "DU<-D-mean\n",
    "\n",
    "eig_cov_D<-eigen(cov(DU))\n",
    "rot_D<-as.matrix(DU)%*%eig_cov_D$vectors\n",
    "\n",
    "correlation_mat_rot=cor(rot_D)\n",
    "\n",
    "var_rot=matrix(,1,5)\n",
    "standard_deviation_rot=matrix(,1,5)\n",
    "for(i in seq(1,5)){\n",
    "  standard_deviation_rot[i]=sd(DU[,i])\n",
    "  var_rot[i]=var(DU[,i])\n",
    "\n",
    "}\n",
    "\n",
    "#we can see that Feature 1 and Feature 2 are correlated (coef ~ 0.5)\n"
   ]
  },
  {
   "cell_type": "code",
   "execution_count": 10,
   "metadata": {},
   "outputs": [
    {
     "data": {
      "text/html": [
       "<table>\n",
       "<tbody>\n",
       "\t<tr><td>2.410224e+13</td><td>6.863146e+12</td><td>5.226496e+12</td><td>5.248403e+12</td><td>5.229009e+12</td></tr>\n",
       "</tbody>\n",
       "</table>\n"
      ],
      "text/latex": [
       "\\begin{tabular}{lllll}\n",
       "\t 2.410224e+13 & 6.863146e+12 & 5.226496e+12 & 5.248403e+12 & 5.229009e+12\\\\\n",
       "\\end{tabular}\n"
      ],
      "text/markdown": [
       "\n",
       "| 2.410224e+13 | 6.863146e+12 | 5.226496e+12 | 5.248403e+12 | 5.229009e+12 |\n",
       "\n"
      ],
      "text/plain": [
       "     [,1]         [,2]         [,3]         [,4]         [,5]        \n",
       "[1,] 2.410224e+13 6.863146e+12 5.226496e+12 5.248403e+12 5.229009e+12"
      ]
     },
     "metadata": {},
     "output_type": "display_data"
    }
   ],
   "source": [
    "var_rot"
   ]
  },
  {
   "cell_type": "code",
   "execution_count": 11,
   "metadata": {},
   "outputs": [],
   "source": [
    "#Perform k-mean clustering\n",
    "k<-8\n",
    "cluster<-0"
   ]
  },
  {
   "cell_type": "code",
   "execution_count": 12,
   "metadata": {},
   "outputs": [],
   "source": [
    "# REGRESSION OUTLINE ----------\n",
    "\n",
    "  # let us see if there is the correlation coefficient\n",
    "\n",
    "  #if we are about to build our model we should sample our data\n",
    "  # the goal here is to split available data into two datasets \n",
    "  kt<-0 # this is counter for the training data set \n",
    "  kv<-0 # this is counter for the validation data set\n",
    "  validationSetD<-matrix(nrow = 202, ncol = 2) # this set is for validation \n",
    "  trainingSetD<- matrix(nrow = 606, ncol = 2) # this set is for model building (training)\n",
    "  \n",
    "  # this is how loops (cycles) are organized in R i is the index or counter \n",
    "  for (i in seq(along=D[,1])){\n",
    "    b<-(i%%4)\n",
    "    if (b==0){\n",
    "      kv<-kv+1\n",
    "      validationSetD[kv,1]<-D[i,1]\n",
    "      validationSetD[kv,2]<-D[i,2]\n",
    "    } else{\n",
    "      kt<-kt+1\n",
    "      trainingSetD[kt,1]<-D[i,1]\n",
    "      trainingSetD[kt,2]<-D[i,2]\n",
    "    }\n",
    "  }\n",
    "  \n",
    "  # let us check correlations again, we do not need to do this, consider it to be a practice \n",
    "  corCoefT=cor(trainingSetD[,1],trainingSetD[,2])\n",
    "  corCoefV=cor(validationSetD[,1],validationSetD[,2])\n",
    "  \n",
    "  # let us try to build liner regression model\n",
    "  model1 <- lm(trainingSetD[1:605,2] ~ trainingSetD[1:605,1])\n",
    "  \n",
    "  # let us draw corresponding trend line \n",
    "  #get(getOption(\"device\"))() #open new graphic window\n",
    "  par(mfrow=c(1,1))\n",
    "\n",
    "\n",
    "  \n",
    "  "
   ]
  },
  {
   "cell_type": "code",
   "execution_count": 18,
   "metadata": {},
   "outputs": [
    {
     "data": {
      "image/png": "[encoded data removed]",
      "text/plain": [
       "Plot with title \"Linear regression\""
      ]
     },
     "metadata": {},
     "output_type": "display_data"
    }
   ],
   "source": [
    "\n",
    "  #perform DBSCAN\n",
    "  DBS<-dbscan(cbind(D[,1],D[,2]), minPts=55 , eps=1000000)\n",
    "  # to make full DBS change ^ to D\n",
    "  \n",
    "  #################3\n",
    "  #plotting -------\n",
    " \n",
    "  for(i in seq(1:length(trainingSetD[,1]-1))){\n",
    "    color<-switch(DBS$cluster[i]+1,\"red\",\"green\",\"yellow\",\"blue\",\"orange\",\"purple\",\"violet\",\"black\")\n",
    "    plot(trainingSetD[i,1],trainingSetD[i,2],col=\"blue\",type=\"p\",pch=0,xlim=c(min(D[,1]),max(D[,1])),ylim=c(min(D[,2]),max(D[,2])),main=\"Linear regression\", xlab=\"X\", ylab=\"Y\")\n",
    "    par(new=TRUE)\n",
    "    \n",
    "    # same here to change to pure DBS\n",
    "    \n",
    "  }\n",
    "  abline(model1)\n",
    "  par(new=TRUE)\n",
    "  \n",
    "  y_hat<-matrix(nrow = 202, ncol = 1) # this vector is to store estimated (predicted) values\n",
    "  error<-matrix(nrow = 202, ncol = 1) # this vector is to store relative error\n",
    "  \n",
    "  # let us check how our model perform on a validation set\n",
    "  C=summary(model1)$coefficients # extract coefficients of the model 1\n",
    "  for (i in seq(along=validationSetD[,2]-1)){\n",
    "    y_hat[i]=C[2,1]*validationSetD[i,2]+C[1,1] # compute estimate\n",
    "    error[i]=(validationSetD[i,1]-y_hat[i])/validationSetD[i,1] # compute relative error\n",
    "  }\n",
    "  \n",
    "  #plot Validation points\n",
    "  plot(validationSetD[,1],validationSetD[,2],col=\"red\",type=\"p\",pch=16,xlim=c(min(D[,1]),max(D[,1])),ylim=c(min(D[,2]),max(D[,2])),main=\"Linear regression\", xlab=\"X\", ylab=\"Y\")\n",
    "  par(new=TRUE)\n",
    "  #####################33\n",
    "  \n",
    "  # Check which clustering is the best\n",
    "  # Analize each cluster separately and look for any relations\n",
    "  # \n",
    "  DBSCAN_clustered<-DBS$cluster\n",
    "  #save(C, correlation_mat, standard_deviation, y_hat, error, DBSCAN_clustered, file=\"F:/Google Drive/TUT/Data Mining/Home Assignement/3rd ex/Ex3_160412IV_16.RData\")\n",
    "  "
   ]
  },
  {
   "cell_type": "code",
   "execution_count": 17,
   "metadata": {},
   "outputs": [
    {
     "data": {
      "image/png": "[encoded data removed]",
      "text/plain": [
       "Plot with title \"Linear regression\""
      ]
     },
     "metadata": {},
     "output_type": "display_data"
    }
   ],
   "source": []
  },
  {
   "cell_type": "code",
   "execution_count": null,
   "metadata": {},
   "outputs": [],
   "source": []
  }
 ],
 "metadata": {
  "kernelspec": {
   "display_name": "R",
   "language": "R",
   "name": "ir"
  },
  "language_info": {
   "codemirror_mode": "r",
   "file_extension": ".r",
   "mimetype": "text/x-r-source",
   "name": "R",
   "pygments_lexer": "r",
   "version": "3.6.1"
  }
 },
 "nbformat": 4,
 "nbformat_minor": 4
}
